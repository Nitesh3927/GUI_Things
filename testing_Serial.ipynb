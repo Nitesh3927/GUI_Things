{
 "cells": [
  {
   "cell_type": "code",
   "execution_count": 1,
   "metadata": {},
   "outputs": [],
   "source": [
    "import time\n",
    "import serial"
   ]
  },
  {
   "cell_type": "code",
   "execution_count": 2,
   "metadata": {},
   "outputs": [
    {
     "name": "stdout",
     "output_type": "stream",
     "text": [
      "COM4\n"
     ]
    },
    {
     "data": {
      "text/plain": [
       "15"
      ]
     },
     "execution_count": 2,
     "metadata": {},
     "output_type": "execute_result"
    }
   ],
   "source": [
    "serial_port = 'COM4'  \n",
    "baud_rate = 115200\n",
    "\n",
    "ser = serial.Serial(serial_port, baud_rate)\n",
    "print(ser.portstr)\n",
    "\n",
    "#send data via serial port\n",
    "\n",
    "ser.write('21104023*Nitesh'.encode('utf-8'))\n",
    "\n",
    "time.sleep(2.2)\n",
    "\n",
    "ser.write('21104063*Kuldeep'.encode('utf-8'))\n",
    "\n",
    "time.sleep(2.2)\n",
    "\n",
    "ser.write('21104062*Shiwam'.encode('utf-8'))"
   ]
  }
 ],
 "metadata": {
  "kernelspec": {
   "display_name": ".venv",
   "language": "python",
   "name": "python3"
  },
  "language_info": {
   "codemirror_mode": {
    "name": "ipython",
    "version": 3
   },
   "file_extension": ".py",
   "mimetype": "text/x-python",
   "name": "python",
   "nbconvert_exporter": "python",
   "pygments_lexer": "ipython3",
   "version": "3.11.3"
  }
 },
 "nbformat": 4,
 "nbformat_minor": 2
}
