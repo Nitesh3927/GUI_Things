{
 "cells": [
  {
   "cell_type": "code",
   "execution_count": 1,
   "metadata": {},
   "outputs": [],
   "source": [
    "import pandas as pd\n",
    "import tkinter as tk\n",
    "from datetime import datetime\n",
    "from pandastable import Table, TableModel\n",
    "from tkinter import scrolledtext\n",
    "import serial\n",
    "import time"
   ]
  },
  {
   "cell_type": "code",
   "execution_count": 2,
   "metadata": {},
   "outputs": [],
   "source": [
    "studentRecord = pd.read_csv(\"Class Lists.csv\")\n",
    "electronics = pd.read_csv('PowerElectronics.csv')\n",
    "control = pd.read_csv('ControlSystem.csv')\n",
    "system = pd.read_csv('PowerSystem.csv')"
   ]
  },
  {
   "cell_type": "code",
   "execution_count": 3,
   "metadata": {},
   "outputs": [],
   "source": [
    "def StudentInfo(df, rfid):\n",
    "    \n",
    "    matching_row = df[df['RFID'] == rfid]\n",
    "\n",
    "    if not matching_row.empty:\n",
    "        sid_value = str(matching_row.iloc[0]['SID'])\n",
    "        name_value = str(matching_row.iloc[0]['NAME'])\n",
    "        print(f\"The RFID :  {rfid}  belongs to  {name_value}, SID: {sid_value}\")\n",
    "        return (sid_value, name_value)\n",
    "    else:\n",
    "        return (str(00000000), 'I am a ghost')\n"
   ]
  },
  {
   "cell_type": "code",
   "execution_count": 4,
   "metadata": {},
   "outputs": [],
   "source": [
    "def create_new_column(df):\n",
    "\n",
    "    dtt = datetime.now().strftime(\"%d %b, %a\")\n",
    "    prevName = df.columns[-1]\n",
    "    if (prevName == 'NAME'):\n",
    "        df[f'L-1 {datetime.now().strftime(\"%d %b, %a\")}'] = 0\n",
    "        return f'L-1 {datetime.now().strftime(\"%d %b, %a\")}'\n",
    "\n",
    "    newColName = f\"L-{int(prevName.replace('-',' ').split()[1])+1} {dtt}\" \n",
    "    df[newColName] = 0  \n",
    "    return str(newColName)"
   ]
  },
  {
   "cell_type": "code",
   "execution_count": 5,
   "metadata": {},
   "outputs": [],
   "source": [
    "def add_value_to_column_sid_wise(df, column_name, sid_value, value_to_add):\n",
    "   \n",
    "    if column_name not in df.columns:\n",
    "        print(\"Column does not exist.\")\n",
    "        return\n",
    "    df.iloc[df['SID'] == sid_value, column_name] = value_to_add\n",
    "    print(f'ADDED ATTENDACE FOR SID {sid_value}')\n",
    "    print(df)\n",
    "    return"
   ]
  },
  {
   "cell_type": "code",
   "execution_count": 6,
   "metadata": {},
   "outputs": [
    {
     "data": {
      "text/plain": [
       "'10 Dec, Sun'"
      ]
     },
     "execution_count": 6,
     "metadata": {},
     "output_type": "execute_result"
    }
   ],
   "source": [
    "dtt = datetime.now().strftime(\"%d %b, %a\")\n",
    "dtt"
   ]
  },
  {
   "cell_type": "code",
   "execution_count": 15,
   "metadata": {},
   "outputs": [
    {
     "data": {
      "text/plain": [
       "Index([1], dtype='int64')"
      ]
     },
     "execution_count": 15,
     "metadata": {},
     "output_type": "execute_result"
    }
   ],
   "source": [
    "electronics.index[electronics['SID'] ==21104002]\n"
   ]
  },
  {
   "cell_type": "code",
   "execution_count": null,
   "metadata": {},
   "outputs": [],
   "source": []
  },
  {
   "cell_type": "code",
   "execution_count": null,
   "metadata": {},
   "outputs": [],
   "source": [
    "def add_to_status(text):\n",
    "    status.configure(state='normal')\n",
    "    status.insert(tk.INSERT , text + '\\n')\n",
    "    status.configure(state='disabled')\n",
    "    status.update()\n",
    "\n",
    "def runningAtt():\n",
    "    print('INATATIING ATTENDANCE PROCESS')\n",
    "    add_to_status('Starting attandence')\n",
    "    \n",
    "    newColName = create_new_column(subjectRecords[activeSubject][0])\n",
    "\n",
    "    try:\n",
    "        serial_port = 'COM4'\n",
    "        baud_rate = 115200\n",
    "        \n",
    "        ser = serial.Serial(serial_port, baud_rate, timeout=None)\n",
    "        line = ''\n",
    "        \n",
    "        while (line != 'C3 13 F5 FA'):\n",
    "            line = ser.readline().decode('utf-8').strip()\n",
    "            \n",
    "            if (line == 'C3 13 F5 FA'):\n",
    "                print('exiting')\n",
    "                line = ''\n",
    "                add_to_status('Attendance is complete')\n",
    "                return\n",
    "        \n",
    "            (new_SID , new_NAME) = StudentInfo(studentRecord, line)\n",
    "            \n",
    "            if ((new_SID , new_NAME) != (str(00000000), 'I am a ghost')):                   \n",
    "\n",
    "                print(f\"SID:  {new_SID},  NAME:  {new_NAME}\\n\")\n",
    "                add_to_status(f\"SID:  {new_SID},  NAME:  {new_NAME}\")\n",
    "                \n",
    "                add_value_to_column_sid_wise(df = subjectRecords[activeSubject][0], column_name = newColName , sid_value= new_SID , value_to_add=1)\n",
    "                print(subjectRecords[activeSubject][0])\n",
    "                \n",
    "                middle.table.redraw()\n",
    "                \n",
    "                lcdDisplay = str(new_SID + \"*\" + new_NAME)\n",
    "                ser.write(lcdDisplay.encode('utf-8'))\n",
    "                time.sleep(2.2)\n",
    "        \n",
    "\n",
    "\n",
    "    except serial.SerialException:\n",
    "        print('Your ESP32 is not connected')\n",
    "        add_to_status(f\"Failed to connect with ESP32.\")\n",
    "    \n",
    "    finally:\n",
    "        print('att over')\n",
    "        if 'ser' in locals():\n",
    "            ser.close()\n",
    "        print(subjectRecords[activeSubject][0])\n",
    "        \n",
    "        subjectRecords[activeSubject][0].to_csv(subjectRecords[activeSubject][1], index=False)\n",
    "\n",
    "\n",
    "def update_time_date_labels():\n",
    "    current_time = datetime.now().strftime(\"%H:%M:%S\")\n",
    "    current_date = datetime.now().strftime(\"%d - %m - %Y\")\n",
    "    time_label.config(text=\"Time: \" + current_time)\n",
    "    date_label.config(text=\"Date: \" + current_date)\n",
    "    root.after(1000, update_time_date_labels)  # Update every second\n",
    "\n",
    "def subject_selected(showingSubject):\n",
    "    # showingSubject = sub.get()\n",
    "    subject_label.config(text=\"Subject: \" + showingSubject)\n",
    "    print(f\"Showing {showingSubject} Attandence Record\")\n",
    "    show_db(showingSubject)\n",
    "\n",
    "subjectRecords = {\n",
    "            'CLass_List': (studentRecord, 'CLass List.csv'),\n",
    "            'Power Electronics': (electronics, 'PowerElectronics.csv'), \n",
    "            'Control System': (control, 'ControlSystem.csv'),\n",
    "            'Power System': (system, 'PowerSystem.csv')\n",
    "        }\n",
    "        \n",
    "def show_db(subject):\n",
    "    global activeSubject\n",
    "    activeSubject = subject\n",
    "    middle.table = Table(middle, dataframe=subjectRecords[subject][0], showtoolbar=False, showstatusbar=False ,editable=False, height = 550, width = 700)\n",
    "    middle.table.show()\n",
    "\n",
    "\n",
    "# global activeSubject\n",
    "#################################Create the main window #######################\n",
    "root = tk.Tk()\n",
    "root.geometry(\"1200x800\")\n",
    "# root.attributes('-fullscreen', True)\n",
    "root.title(\"RFID Attendance System\")\n",
    "\n",
    "################################# TOP_L FRAME #######################\n",
    "top_L = tk.Frame(root)\n",
    "top_L.grid(row=0, column=0, pady=20, padx=20)\n",
    "\n",
    "heading_label = tk.Label(top_L, text=\"Electrical Department\", font=(\"Helvetica\", 24))\n",
    "date_label = tk.Label(top_L, text=\"Current Date: \", font=(\"Helvetica\", 12))\n",
    "time_label = tk.Label(top_L, text=\"Current Time: \", font=(\"Helvetica\", 12))\n",
    "\n",
    "heading_label.grid()\n",
    "date_label.grid()\n",
    "time_label.grid()\n",
    "\n",
    "\n",
    "################################# TOP_R FRAME #######################\n",
    "top_R = tk.Frame(root)\n",
    "top_R.grid(row=0, column=1, pady=20, padx=20)\n",
    "\n",
    "sub = tk.StringVar()\n",
    "curr_sub = tk.OptionMenu(top_R, sub ,'CLass_List', 'Power Electronics', 'Control System', 'Power System', command = subject_selected)\n",
    "subject_label = tk.Label(top_R, text=\"Subject :\", font=(\"Helvetica\", 12))\n",
    "\n",
    "start_att = tk.Button(top_R, text='Start\\nattandence', command=runningAtt)\n",
    "\n",
    "\n",
    "curr_sub.grid()\n",
    "subject_label.grid()\n",
    "\n",
    "################################# DATABASE FRAME #######################\n",
    "\n",
    "middle = tk.Frame(root)\n",
    "middle.grid(row=1, column=0, pady=20, padx=20)\n",
    "\n",
    "################################# STATUS FRAME #######################\n",
    "bottom = tk.Frame(root)\n",
    "bottom.grid(row=1, column=1, pady=20, padx=20)\n",
    "\n",
    "status = scrolledtext.ScrolledText(bottom, wrap = tk.WORD, width =60, height = 25, font = (\"Times New Roman\",12))\n",
    "status.grid()\n",
    "\n",
    "# ################################# TOP_R FRAME #######################\n",
    "# top_R = tk.Frame(root)\n",
    "# top_R.grid(row=0, column=1, pady=20, padx=20)\n",
    "\n",
    "start_att.grid(row=0, column=3, padx=70)\n",
    "# stop_att.grid(row=0, column=5, padx=40)\n",
    "\n",
    "update_time_date_labels()\n",
    "root.mainloop()\n"
   ]
  },
  {
   "cell_type": "code",
   "execution_count": null,
   "metadata": {},
   "outputs": [],
   "source": []
  },
  {
   "cell_type": "code",
   "execution_count": null,
   "metadata": {},
   "outputs": [],
   "source": [
    "\n",
    "def func():\n",
    "    std = 'Naheed'\n",
    "    sid = 21104002\n",
    "\n",
    "    naam = create_new_column(control)\n",
    "\n",
    "    add_value_to_column_sid_wise(df=control, column_name=naam, sid_value=sid , value_to_add = 1)\n",
    "    # add_value_to_column_sid_wise(df = subjectRecords[activeSubject][0], column_name=naam, sid_value=sid , value_to_add = 1)\n",
    "    control"
   ]
  },
  {
   "cell_type": "code",
   "execution_count": null,
   "metadata": {},
   "outputs": [],
   "source": [
    "func()"
   ]
  },
  {
   "cell_type": "code",
   "execution_count": null,
   "metadata": {},
   "outputs": [],
   "source": [
    "electronics"
   ]
  },
  {
   "cell_type": "code",
   "execution_count": null,
   "metadata": {},
   "outputs": [],
   "source": [
    "control"
   ]
  },
  {
   "cell_type": "code",
   "execution_count": null,
   "metadata": {},
   "outputs": [],
   "source": [
    "add_value_to_column_sid_wise(subjectRecords[activeSubject][0], 'L-1 16 Nov, Thu' , sid_value=21104003 , value_to_add=1)\n",
    "electronics"
   ]
  },
  {
   "cell_type": "code",
   "execution_count": null,
   "metadata": {},
   "outputs": [],
   "source": []
  }
 ],
 "metadata": {
  "kernelspec": {
   "display_name": ".venv",
   "language": "python",
   "name": "python3"
  },
  "language_info": {
   "codemirror_mode": {
    "name": "ipython",
    "version": 3
   },
   "file_extension": ".py",
   "mimetype": "text/x-python",
   "name": "python",
   "nbconvert_exporter": "python",
   "pygments_lexer": "ipython3",
   "version": "3.11.3"
  }
 },
 "nbformat": 4,
 "nbformat_minor": 2
}
